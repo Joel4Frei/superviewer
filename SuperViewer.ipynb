{
 "cells": [
  {
   "attachments": {},
   "cell_type": "markdown",
   "metadata": {},
   "source": [
    "# SuperViewer"
   ]
  },
  {
   "cell_type": "code",
   "execution_count": 1,
   "metadata": {},
   "outputs": [],
   "source": [
    "import napari\n",
    "from PyQt5.QtWidgets import QMenu, QAction, QMainWindow\n",
    "from superaddons.superaddon import SuperViewer, VariableData, EnCellClopedia, Help, PlotWindow"
   ]
  },
  {
   "cell_type": "code",
   "execution_count": null,
   "metadata": {},
   "outputs": [],
   "source": [
    "viewer = napari.Viewer()\n",
    "main_window = viewer.window.qt_viewer.window()\n",
    "menu_bar = main_window.menuBar()\n",
    "\n",
    "\n",
    "superviewer = SuperViewer(viewer,main_window,menu_bar)\n",
    "superviewer.setStyleSheet('QPushButton:hover { background-color: green; } QComboBox:hover { background-color: green; } QCheckBox:hover { background-color: green; }')  \n",
    "\n",
    "variable_data = VariableData()\n",
    "variable_data.setStyleSheet('QPushButton:hover { background-color: green; } QComboBox:hover { background-color: green; } QCheckBox:hover { background-color: green; }')  \n",
    "\n",
    "encellclopedia = EnCellClopedia()\n",
    "encellclopedia.setStyleSheet('QPushButton:hover { background-color: green; } QComboBox:hover { background-color: green; } QCheckBox:hover { background-color: green; }')  \n",
    "\n",
    "help_widget = Help()\n",
    "help_widget.setStyleSheet('QPushButton:hover { background-color: green; } QComboBox:hover { background-color: green; } QCheckBox:hover { background-color: green; }')  \n",
    "\n",
    "plot_widget = PlotWindow(viewer)\n",
    "plot_widget.setStyleSheet('QPushButton:hover { background-color: green; } QComboBox:hover { background-color: green; } QCheckBox:hover { background-color: green; }')  \n",
    "\n",
    "\n",
    "\n",
    "encellclopedia_window = QMainWindow()\n",
    "encellclopedia_window.setCentralWidget(encellclopedia)\n",
    "\n",
    "help_window = QMainWindow()\n",
    "help_window.setCentralWidget(help_widget)\n",
    "\n",
    "plot_window = QMainWindow()\n",
    "plot_window.setCentralWidget(plot_widget)\n",
    "\n",
    "\n",
    "super_menu = QMenu('Super Menu')\n",
    "\n",
    "bioogle = QAction('Bioogle', None)\n",
    "bioogle.triggered.connect(encellclopedia_window.show)\n",
    "super_menu.addAction(bioogle)\n",
    "\n",
    "variables = QAction('Tracks Variables', None)\n",
    "variables.triggered.connect(lambda: viewer.window.add_dock_widget(variable_data, name='Variables', area='left'))\n",
    "super_menu.addAction(variables)\n",
    "\n",
    "extra_plot = QAction('Plot Viewer', None)\n",
    "extra_plot.triggered.connect(plot_window.show)\n",
    "super_menu.addAction(extra_plot)\n",
    "\n",
    "from superaddons.tiffaddon import render_as_rgb\n",
    "render = QAction('Render as RGB', None)\n",
    "render.triggered.connect(lambda: viewer.window.add_dock_widget(render_as_rgb, name=\"Save as TIFF\", area= 'left'))\n",
    "super_menu.addAction(render)\n",
    "\n",
    "super_help = QAction('Help', None)\n",
    "super_help.triggered.connect(help_window.show)\n",
    "super_menu.addAction(super_help)\n",
    "\n",
    "menu_bar.addMenu(super_menu)\n",
    "\n",
    "viewer.window.add_dock_widget(superviewer, name='SuperViewer', area='right')\n",
    "viewer.show()"
   ]
  }
 ],
 "metadata": {
  "kernelspec": {
   "display_name": "napariEnv",
   "language": "python",
   "name": "python3"
  },
  "language_info": {
   "codemirror_mode": {
    "name": "ipython",
    "version": 3
   },
   "file_extension": ".py",
   "mimetype": "text/x-python",
   "name": "python",
   "nbconvert_exporter": "python",
   "pygments_lexer": "ipython3",
   "version": "3.10.9"
  }
 },
 "nbformat": 4,
 "nbformat_minor": 2
}
